{
 "cells": [
  {
   "cell_type": "code",
   "execution_count": 1,
   "id": "8dadf751",
   "metadata": {},
   "outputs": [],
   "source": [
    "import argparse\n",
    "import open_clip\n",
    "from testing.data import get_dataset_fn\n",
    "import pandas as pd\n",
    "import numpy as np\n",
    "import json\n",
    "import os\n",
    "from PIL import Image\n",
    "import torch\n",
    "import torch.nn as nn\n",
    "from torchvision.datasets import VisionDataset\n",
    "from torchvision.io import ImageReadMode, read_image\n",
    "from torchvision.transforms import transforms\n",
    "import unicodedata\n",
    "from torch.utils.data import DataLoader, random_split\n",
    "import seaborn as sns\n",
    "from matplotlib import pyplot as plt\n",
    "from sklearn import preprocessing\n",
    "from sklearn import datasets\n",
    "from dosnes import dosnes\n",
    "from sklearn.decomposition import PCA\n",
    "import seaborn as sns\n",
    "from mpl_toolkits.mplot3d import Axes3D\n"
   ]
  },
  {
   "cell_type": "code",
   "execution_count": 2,
   "id": "dcfcd06c",
   "metadata": {},
   "outputs": [],
   "source": [
    "def encode_labels(labels):\n",
    "    le = preprocessing.LabelEncoder()\n",
    "    le.fit(labels)\n",
    "    labels_encoded = le.transform(labels)\n",
    "    return labels_encoded\n",
    "\n",
    "def plot_dosnes(dosnes_model, features, labels, title):\n",
    "    X_embedded = model.fit_transform(features)\n",
    "    fig = plt.figure()\n",
    "    ax = fig.gca(projection='3d')\n",
    "    ax.scatter(X_embedded[:, 0], X_embedded[:, 1], X_embedded[:, 2], c=labels, cmap=plt.cm.Set1)\n",
    "    plt.title(title)\n",
    "    plt.show()\n",
    "    \n",
    "def fit_PCA(features, labels):\n",
    "    df = pd.DataFrame({'feature': features, 'label': labels})\n",
    "    pca = PCA(n_components=3)\n",
    "    pca_result = pca.fit_transform(features)\n",
    "\n",
    "    df['pca-one'] = pca_result[:,0]\n",
    "    df['pca-two'] = pca_result[:,1] \n",
    "    df['pca-three'] = pca_result[:,2]\n",
    "    return df\n",
    "\n",
    "def plot_pca(df, label, title, c_palette=sns.color_palette('bright')):\n",
    "    plt.figure(figsize=(16,10))\n",
    "    fig = plt.figure()\n",
    "    sns.set(style = \"darkgrid\")\n",
    "    ax = fig.add_subplot(111, projection = '3d')\n",
    "    x = df[\"pca-one\"]\n",
    "    y = df[\"pca-two\"]\n",
    "    z = df['pca-three']\n",
    "    ax.scatter(x, y, z, label=label)\n",
    "    plt.title(title)\n",
    "    plt.show"
   ]
  },
  {
   "cell_type": "code",
   "execution_count": 5,
   "id": "50050bf5",
   "metadata": {},
   "outputs": [],
   "source": [
    "model_name = 'ViT-B-32'\n",
    "tokenizer = open_clip.get_tokenizer(model_name)\n",
    "#model, _, preprocess = open_clip.create_model_and_transforms(model_name, device='cuda')\n",
    "model, _, preprocess = open_clip.create_model_and_transforms(model_name, device='cuda', align=True)"
   ]
  },
  {
   "cell_type": "code",
   "execution_count": 6,
   "id": "c9901e10",
   "metadata": {},
   "outputs": [
    {
     "data": {
      "text/plain": [
       "<All keys matched successfully>"
      ]
     },
     "execution_count": 6,
     "metadata": {},
     "output_type": "execute_result"
    }
   ],
   "source": [
    "#alignCLIP_path = '/scratch4/seslami/alignCLIP_openCLIP/alignCLIP/logs/2023_08_16-09_51_36-model_ViT-B-32-lr_0.001-b_520-j_2-p_amp/checkpoints/epoch_30.pt'  ## 512 -> 412\n",
    "#alignCLIP_path = '/scratch4/seslami/alignCLIP_openCLIP/alignCLIP/logs/2023_08_22-16_09_33-model_ViT-B-32-lr_0.001-b_520-j_2-p_amp/checkpoints/epoch_30.pt'  ## 512 -> 1024\n",
    "alignCLIP_path = '/scratch/seslami/alignCLIP_openCLIP/alignCLIP/logs/2023_09_04-14_15_48-model_ViT-B-32-lr_0.001-b_520-j_2-p_amp/checkpoints/epoch_30.pt'  ## 512 -> 256\n",
    "checkpoint = torch.load(alignCLIP_path)\n",
    "#orgCLIP_path = '/scratch4/seslami/alignCLIP_openCLIP/logs/2023_08_15-16_04_16-model_ViT-B-32-lr_0.001-b_520-j_2-p_amp/checkpoints/epoch_30.pt'\n",
    "#checkpoint = torch.load(orgCLIP_path)\n",
    "model.load_state_dict(checkpoint['state_dict'])"
   ]
  },
  {
   "cell_type": "code",
   "execution_count": 7,
   "id": "ec8154d1",
   "metadata": {},
   "outputs": [],
   "source": [
    "def clip_I_T_embeddings(dataloader, model, device='cuda', align=False):\n",
    "    features_I = []\n",
    "    features_T = []\n",
    "    with torch.no_grad():\n",
    "        for i, (images, captions) in enumerate(dataloader):\n",
    "            images = torch.stack([img for img in images], dim=0).to(device)\n",
    "\n",
    "            image_features = model.encode_image(images).to(torch.float32)\n",
    "            image_featues = image_features / image_features.norm(dim=-1, keepdim=True)\n",
    "            if align:\n",
    "                image_features = model.adapter(image_features)\n",
    "            features_I += image_features\n",
    "\n",
    "            captions = captions.to(device)\n",
    "            text_features = model.encode_text(captions).to(torch.float32)\n",
    "            text_features = text_features / text_features.norm(dim=-1, keepdim=True)\n",
    "            if align:\n",
    "                text_features = model.adapter(text_features)\n",
    "            features_T += text_features\n",
    "            \n",
    "    return features_I, features_T\n",
    "\n",
    "\n",
    "\n",
    "def align_separation_scores(x, y, is_normalized=False):\n",
    "    #return cos(x, y).mean()\n",
    "    if not is_normalized:\n",
    "        x = x / x.norm(dim=-1, keepdim=True)\n",
    "        y = y / y.norm(dim=-1, keepdim=True)\n",
    "        \n",
    "    inner_p = x @ y.T\n",
    "    diagon = inner_p.diagonal()\n",
    "    align_score = diagon.mean()\n",
    "\n",
    "    inner_p.diagonal(dim1=-1, dim2=-2).zero_()\n",
    "    separation_score = 1 - inner_p.mean()\n",
    "    \n",
    "    return align_score, separation_score"
   ]
  },
  {
   "cell_type": "markdown",
   "id": "316025f7",
   "metadata": {},
   "source": [
    "## CC3M Validation"
   ]
  },
  {
   "cell_type": "code",
   "execution_count": 8,
   "id": "cdbc4ce1",
   "metadata": {},
   "outputs": [],
   "source": [
    "data_path = '/scratch/datasets/vision_language/conceptual_captions/Validation_GCC-1.1.0-Validation_output.tsv'\n",
    "data = get_dataset_fn(data_path=data_path, dataset_type='auto')(data_path, preprocess, is_train=False, tokenizer=tokenizer)"
   ]
  },
  {
   "cell_type": "code",
   "execution_count": 9,
   "id": "eb5a08a9",
   "metadata": {},
   "outputs": [],
   "source": [
    "#features_I, features_T = clip_I_T_embeddings(data.dataloader, model)\n",
    "features_I, features_T = clip_I_T_embeddings(data.dataloader, model, align=True)\n",
    "features_I = torch.stack(features_I, dim=0)\n",
    "features_T = torch.stack(features_T, dim=0)\n",
    "    \n",
    "align_score, separation_score = align_separation_scores(features_I, features_T)\n"
   ]
  },
  {
   "cell_type": "code",
   "execution_count": 11,
   "id": "ca11b6f7",
   "metadata": {},
   "outputs": [
    {
     "name": "stdout",
     "output_type": "stream",
     "text": [
      "tensor(0.4221, device='cuda:0')\n",
      "tensor(0.9452, device='cuda:0')\n"
     ]
    }
   ],
   "source": [
    "print(align_score)\n",
    "print(separation_score)"
   ]
  },
  {
   "cell_type": "code",
   "execution_count": 12,
   "id": "a9e17d88",
   "metadata": {},
   "outputs": [],
   "source": [
    "np.random.seed(42)\n",
    "vis_size = 2500\n",
    "msk = np.random.rand(vis_size)"
   ]
  },
  {
   "cell_type": "code",
   "execution_count": 13,
   "id": "fb240b3d",
   "metadata": {},
   "outputs": [
    {
     "data": {
      "text/plain": [
       "torch.Size([5000, 256])"
      ]
     },
     "execution_count": 13,
     "metadata": {},
     "output_type": "execute_result"
    }
   ],
   "source": [
    "features = torch.concat((features_I[msk], features_T[msk]), dim=0)\n",
    "features.shape"
   ]
  },
  {
   "cell_type": "code",
   "execution_count": 14,
   "id": "84c6f89f",
   "metadata": {},
   "outputs": [
    {
     "data": {
      "text/plain": [
       "(5000, 256)"
      ]
     },
     "execution_count": 14,
     "metadata": {},
     "output_type": "execute_result"
    }
   ],
   "source": [
    "features = features.cpu().detach().numpy()\n",
    "features.shape"
   ]
  },
  {
   "cell_type": "code",
   "execution_count": 15,
   "id": "37c30285",
   "metadata": {},
   "outputs": [],
   "source": [
    "#labels = [0 for i in range(features_I.shape[0])] + [1 for i in range(features_T.shape[0])]\n",
    "labels = [0 for i in range(vis_size)] + [1 for i in range(vis_size)]\n",
    "#labels = [0 for i in range(1000)] + [1 for i in range(1000)]\n",
    "labels = np.array(labels)\n",
    "assert labels.shape[0] == features.shape[0]"
   ]
  },
  {
   "cell_type": "markdown",
   "id": "8e098208",
   "metadata": {},
   "source": [
    "### DOSNES"
   ]
  },
  {
   "cell_type": "code",
   "execution_count": null,
   "id": "24fcafee",
   "metadata": {},
   "outputs": [
    {
     "name": "stdout",
     "output_type": "stream",
     "text": [
      "Computing distances\n",
      "Set doubly Stochastic\n",
      "Start Embedding\n",
      "Iteration 0 : error is 0.003320335836523469\n",
      "Iteration 10 : error is 0.0033203358362960955\n",
      "Iteration 20 : error is 0.0033203358316811205\n",
      "Iteration 30 : error is 0.0033203354965749554\n",
      "Iteration 40 : error is 0.0033200778877038317\n",
      "Iteration 50 : error is 0.002637129952486106\n",
      "Iteration 60 : error is 8.262998608898897e-06\n",
      "Iteration 70 : error is 3.457075337109927e-08\n",
      "Iteration 80 : error is 8.695266728864226e-11\n",
      "Iteration 90 : error is 1.8829382497642655e-13\n",
      "Iteration 100 : error is -3.552713678800501e-14\n",
      "Iteration 110 : error is 7.815970093361102e-14\n",
      "Iteration 120 : error is 1.7763568394002505e-14\n",
      "Iteration 130 : error is 1.0658141036401503e-14\n",
      "Iteration 140 : error is 3.907985046680551e-14\n",
      "Iteration 150 : error is 0.0\n",
      "Iteration 160 : error is -2.1316282072803006e-14\n",
      "Iteration 170 : error is 2.1316282072803006e-14\n",
      "Iteration 180 : error is 2.4868995751603507e-14\n",
      "Iteration 190 : error is -2.1316282072803006e-14\n",
      "Iteration 200 : error is -2.4868995751603507e-14\n",
      "Iteration 210 : error is -2.1316282072803006e-14\n",
      "Iteration 220 : error is -1.4210854715202004e-14\n",
      "Iteration 230 : error is -7.105427357601002e-15\n",
      "Iteration 240 : error is -3.552713678800501e-15\n",
      "Iteration 250 : error is -1.4210854715202004e-14\n",
      "Iteration 260 : error is 1.0658141036401503e-14\n",
      "Iteration 270 : error is 1.7763568394002505e-14\n",
      "Iteration 280 : error is -3.552713678800501e-15\n",
      "Iteration 290 : error is 0.0\n",
      "Iteration 300 : error is -2.842170943040401e-14\n",
      "Iteration 310 : error is -2.842170943040401e-14\n",
      "Iteration 320 : error is -4.973799150320701e-14\n",
      "Iteration 330 : error is -1.0658141036401503e-14\n",
      "Iteration 340 : error is -1.4210854715202004e-14\n",
      "Iteration 350 : error is -6.750155989720952e-14\n",
      "Iteration 360 : error is 2.1316282072803006e-14\n",
      "Iteration 370 : error is -7.105427357601002e-15\n",
      "Iteration 380 : error is -1.0658141036401503e-14\n",
      "Iteration 390 : error is -1.0658141036401503e-14\n",
      "Iteration 400 : error is -3.552713678800501e-14\n",
      "Iteration 410 : error is -7.105427357601002e-15\n",
      "Iteration 420 : error is -3.552713678800501e-15\n",
      "Iteration 430 : error is -7.105427357601002e-15\n",
      "Iteration 440 : error is 1.0658141036401503e-14\n",
      "Iteration 450 : error is 3.552713678800501e-15\n",
      "Iteration 460 : error is -3.552713678800501e-14\n",
      "Iteration 470 : error is -3.552713678800501e-14\n",
      "Iteration 480 : error is -1.4210854715202004e-14\n",
      "Iteration 490 : error is -3.907985046680551e-14\n",
      "Iteration 500 : error is -4.263256414560601e-14\n",
      "Iteration 510 : error is -1.7763568394002505e-14\n",
      "Iteration 520 : error is -6.039613253960852e-14\n",
      "Iteration 530 : error is -2.4868995751603507e-14\n",
      "Iteration 540 : error is -3.552713678800501e-15\n",
      "Iteration 550 : error is -6.039613253960852e-14\n",
      "Iteration 560 : error is -3.552713678800501e-14\n",
      "Iteration 570 : error is -4.618527782440651e-14\n",
      "Iteration 580 : error is -2.4868995751603507e-14\n",
      "Iteration 590 : error is -2.4868995751603507e-14\n",
      "Iteration 600 : error is -5.684341886080802e-14\n",
      "Iteration 610 : error is -3.197442310920451e-14\n",
      "Iteration 620 : error is -8.171241461241152e-14\n",
      "Iteration 630 : error is -4.973799150320701e-14\n",
      "Iteration 640 : error is -1.0658141036401503e-14\n",
      "Iteration 650 : error is -6.750155989720952e-14\n",
      "Iteration 660 : error is -3.907985046680551e-14\n",
      "Iteration 670 : error is -4.618527782440651e-14\n",
      "Iteration 680 : error is -1.0658141036401503e-14\n",
      "Iteration 690 : error is -6.394884621840902e-14\n",
      "Iteration 700 : error is -3.907985046680551e-14\n",
      "Iteration 710 : error is -8.526512829121202e-14\n",
      "Iteration 720 : error is -2.842170943040401e-14\n",
      "Iteration 730 : error is -3.907985046680551e-14\n",
      "Iteration 740 : error is -1.4210854715202004e-14\n",
      "Iteration 750 : error is -9.237055564881302e-14\n",
      "Iteration 760 : error is -3.552713678800501e-15\n",
      "Iteration 770 : error is -4.618527782440651e-14\n",
      "Iteration 780 : error is -7.105427357601002e-14\n",
      "Iteration 790 : error is -5.3290705182007514e-14\n",
      "Iteration 800 : error is -4.618527782440651e-14\n",
      "Iteration 810 : error is -8.526512829121202e-14\n",
      "Iteration 820 : error is -4.973799150320701e-14\n",
      "Iteration 830 : error is -8.171241461241152e-14\n",
      "Iteration 840 : error is -3.907985046680551e-14\n",
      "Iteration 850 : error is -5.3290705182007514e-14\n",
      "Iteration 860 : error is -5.684341886080802e-14\n",
      "Iteration 870 : error is -1.0658141036401503e-13\n",
      "Iteration 880 : error is -5.3290705182007514e-14\n",
      "Iteration 890 : error is -1.1368683772161603e-13\n",
      "Iteration 900 : error is -8.881784197001252e-14\n",
      "Iteration 910 : error is -5.3290705182007514e-14\n",
      "Iteration 920 : error is -8.171241461241152e-14\n"
     ]
    }
   ],
   "source": [
    "metric = \"cosine\"\n",
    "model = dosnes.DOSNES(metric = metric, verbose = 1, random_state=42, max_iter=1000, max_iter_skp=200)\n",
    "X_embedded = model.fit_transform(features)"
   ]
  },
  {
   "cell_type": "code",
   "execution_count": null,
   "id": "83b82b97",
   "metadata": {},
   "outputs": [],
   "source": [
    "fig = plt.figure()\n",
    "ax = fig.add_subplot(projection='3d')\n",
    "ax.scatter(X_embedded[:, 0], X_embedded[:, 1], X_embedded[:, 2], c=labels, cmap=plt.cm.Set1)\n",
    "plt.title(\"alignCLIP encodings with adapter 512->256 Embedded on a Sphere with metric {}\".format(metric))\n",
    "#plt.title(\"orgCLIP encodings Embedded on a Sphere with metric {}\".format(metric))\n",
    "plt.show()"
   ]
  },
  {
   "cell_type": "markdown",
   "id": "3f09077e",
   "metadata": {},
   "source": [
    "### PCA 3D"
   ]
  },
  {
   "cell_type": "code",
   "execution_count": 20,
   "id": "c496c3b8",
   "metadata": {},
   "outputs": [],
   "source": [
    "df = fit_PCA(features.tolist(), labels)"
   ]
  },
  {
   "cell_type": "code",
   "execution_count": 21,
   "id": "6f49ccac",
   "metadata": {},
   "outputs": [
    {
     "data": {
      "text/plain": [
       "<Figure size 1600x1000 with 0 Axes>"
      ]
     },
     "metadata": {},
     "output_type": "display_data"
    },
    {
     "data": {
      "image/png": "[encoded data removed]",
      "text/plain": [
       "<Figure size 640x480 with 1 Axes>"
      ]
     },
     "metadata": {},
     "output_type": "display_data"
    }
   ],
   "source": [
    "plot_pca(df, labels, title='alignCLIP encodings with FC layer 512->256 on inference')"
   ]
  },
  {
   "cell_type": "code",
   "execution_count": null,
   "id": "6f491048",
   "metadata": {},
   "outputs": [],
   "source": []
  },
  {
   "cell_type": "code",
   "execution_count": null,
   "id": "d6280ba7",
   "metadata": {},
   "outputs": [],
   "source": []
  }
 ],
 "metadata": {
  "kernelspec": {
   "display_name": "Python 3 (ipykernel)",
   "language": "python",
   "name": "python3"
  },
  "language_info": {
   "codemirror_mode": {
    "name": "ipython",
    "version": 3
   },
   "file_extension": ".py",
   "mimetype": "text/x-python",
   "name": "python",
   "nbconvert_exporter": "python",
   "pygments_lexer": "ipython3",
   "version": "3.10.6"
  }
 },
 "nbformat": 4,
 "nbformat_minor": 5
}
